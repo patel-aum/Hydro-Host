{
 "cells": [
  {
   "cell_type": "code",
   "execution_count": 1,
   "metadata": {},
   "outputs": [],
   "source": [
    "import argparse\n",
    "import time\n",
    "import RPi.GPIO as GPIO\n",
    "\n",
    "\n",
    "class ExternalDevice():\n",
    "    \"\"\"docstring for ExternalDevice. \n",
    "    name: (string) Identification for specific device.\n",
    "    max_value: (int) Longest time in seconds that the device should ever be in its active state\n",
    "    \"\"\"\n",
    "    def __init__(self, name, GPIO_pin_num, max_value):\n",
    "        self.name = name\n",
    "        self.pin_num = GPIO_pin_num\n",
    "        self.max_value = max_value\n",
    "        self.state_file = '.{}_state'.format(self.name)\n",
    "        self.state = self.get_state(verbose=True)\n",
    "        \n",
    "    def pin_on():\n",
    "        GPIO.output(self.pin_num, GPIO.HIGH) # turn device on\n",
    "        \n",
    "    def pin_off():\n",
    "        GPIO.output(self.pin_num, GPIO.LOW) # turn device off\n",
    "\n",
    "    def get_state(self, verbose=True):\n",
    "        try:\n",
    "            with open(self.state_file, 'r') as f:\n",
    "                device_state = f.read(1)\n",
    "                if verbose:\n",
    "                    print(\"Device state is: {}\".format(device_state))\n",
    "        except:\n",
    "            with open(self.state_file, 'w+') as f:\n",
    "                print(\"Creating device state file and setting to 0.\")\n",
    "                device_state = '0'\n",
    "                f.write(device_state)\n",
    "        return device_state\n",
    "                \n",
    "    \n",
    "    def start_device(self, duration=0):\n",
    "        if self.get_state() == '0':\n",
    "            with open(self.state_file, 'w') as f:\n",
    "                print('{} state set to start (1)'.format(self.name))\n",
    "                f.write('1')\n",
    "                self.state = '1'\n",
    "                self.pin_on()\n",
    "                time.sleep(duration)\n",
    "                \n",
    "        elif self.get_state() == '1':\n",
    "            self.state = '1'\n",
    "            self.pin_on()\n",
    "            time.sleep(duration)\n",
    "            print('{} already on. State file was set at 1.'.format(self.name).format(self.name))\n",
    "            \n",
    "        else:\n",
    "            with open(self.state_file, 'w+') as f:\n",
    "                f.write('1')\n",
    "                self.state = '1'\n",
    "                print('State for {} was not present.', '\\n', 'Created state file and set to 1.')\n",
    "                self.pin_on()\n",
    "                time.sleep(duration)\n",
    "                \n",
    "            \n",
    "    def stop_device(self):\n",
    "        if self.get_state() == '0':\n",
    "            self.state = '0'\n",
    "            print('{} already off. State file was set at 0.'.format(self.name))\n",
    "            self.pin_off()\n",
    "        \n",
    "        elif self.get_state() == '1':\n",
    "            with open(self.state_file, 'w') as f:\n",
    "                f.write('0')\n",
    "                self.state = '0'\n",
    "                print('Set file for {} to 0'.format(self.name))\n",
    "                self.pin_off()\n",
    "        else:\n",
    "            with open(self.state_file, 'w+') as f:\n",
    "                state.write('0')\n",
    "                self.state = '0'\n",
    "                print('State file for {} was not present.', '\\n', 'Created state file and set to 1.'.format(self.name))\n",
    "                self.pin_off()\n"
   ]
  },
  {
   "cell_type": "code",
   "execution_count": 12,
   "metadata": {},
   "outputs": [
    {
     "ename": "SyntaxError",
     "evalue": "unexpected EOF while parsing (<ipython-input-12-6e1f60d3e622>, line 7)",
     "output_type": "error",
     "traceback": [
      "\u001b[0;36m  File \u001b[0;32m\"<ipython-input-12-6e1f60d3e622>\"\u001b[0;36m, line \u001b[0;32m7\u001b[0m\n\u001b[0;31m    devices = parse_args()\u001b[0m\n\u001b[0m                          ^\u001b[0m\n\u001b[0;31mSyntaxError\u001b[0m\u001b[0;31m:\u001b[0m unexpected EOF while parsing\n"
     ]
    }
   ],
   "source": [
    "if __name__ == '__main__':\n",
    "    try:\n",
    "        pump_parser = argparse.ArgumentParser(description='Setup devices to be controlled')\n",
    "        pump_parser.add_argument('-d', '--Duration', required=True, type=int, help='Enter duration in secs for pump to run.')\n",
    "        pump_parser.add_argument('-p', '--GPIO_pin', required=True, type=int, help='Enter the number of the GPIO pin (BOARD) to which the pump is attached.')\n",
    "        pump_args = pump_parser.parse_args()\n",
    "        pump_duration = pump_args.Duration\n",
    "        gpio_pin_num = pump_args.GPIO_pin\n",
    "        GPIO.setmode(GPIO.BOARD)\n",
    "        GPIO.setup(gpio_pin_num, GPIO.OUT)\n",
    "        print('Creating devices...')\n",
    "        print('About to start pump for {} seconds on GPIO pin number {} (BOARD layout numbering scheme).'.format(pump_duration, gpio_pin_num))\n",
    "        \n",
    "        water_pump = ExternalDevice('water pump', gpio_pin_num, 600) # max duration is not implemented yet\n",
    "        water_pump.start_device(pump_duration)\n",
    "        \n",
    "        print('Cycle complete, cleaning up.')\n",
    "        GPIO.cleanup()\n",
    "        print('Clean up complete.')\n",
    "        \n",
    "    except KeyboardInterrupt:\n",
    "        GPIO.cleanup()\n",
    "        print('Keyboard interrupt received, gracefully stopped.')\n",
    "        "
   ]
  },
  {
   "cell_type": "code",
   "execution_count": 3,
   "metadata": {},
   "outputs": [
    {
     "name": "stdout",
     "output_type": "stream",
     "text": [
      "Device state is: 1\n"
     ]
    }
   ],
   "source": [
    "usbpump = ExternalDevice(\"pump\", 200)"
   ]
  },
  {
   "cell_type": "code",
   "execution_count": null,
   "metadata": {},
   "outputs": [],
   "source": [
    "class DeviceDaemon():\n",
    "    def __init__(self, name, state_fp, max_sleep):\n",
    "        self.name = name\n",
    "        self.state_fp = state_fp\n",
    "        self.max_sleep = max_sleep\n",
    "        \n",
    "    def check_state_file(self):\n",
    "        try:\n",
    "            with open"
   ]
  },
  {
   "cell_type": "code",
   "execution_count": null,
   "metadata": {},
   "outputs": [],
   "source": [
    "import RPi.GPIO as GPIO\n",
    "import time\n",
    "\n",
    "channel = 21\n",
    "GPIO.setmode(GPIO.BOARD)\n",
    "GPIO.setup(channel, GPIO.OUT)\n",
    "\n",
    "def device_on(pin)\n",
    "    GPIO.output(pin, GPIO.HIGH) # turn pump on\n",
    "    print(\"GPIO pin {} set to HIGH (1)\".format(pin))\n",
    "    return\n",
    "    \n",
    "def device_off(pin):\n",
    "    GPIO.output(pin, GPIO.LOW)\n",
    "    print(\"GPIO pin {} set to LOW (0)\".format(pin))"
   ]
  },
  {
   "cell_type": "markdown",
   "metadata": {},
   "source": [
    "Main file\n",
    "\n",
    "Program should check state files every 5 mins and start the pump or not accordingly."
   ]
  },
  {
   "cell_type": "code",
   "execution_count": null,
   "metadata": {},
   "outputs": [],
   "source": []
  }
 ],
 "metadata": {
  "kernelspec": {
   "display_name": "Python 3",
   "language": "python",
   "name": "python3"
  },
  "language_info": {
   "codemirror_mode": {
    "name": "ipython",
    "version": 3
   },
   "file_extension": ".py",
   "mimetype": "text/x-python",
   "name": "python",
   "nbconvert_exporter": "python",
   "pygments_lexer": "ipython3",
   "version": "3.6.5"
  }
 },
 "nbformat": 4,
 "nbformat_minor": 2
}
